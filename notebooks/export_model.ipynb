{
 "cells": [
  {
   "cell_type": "markdown",
   "id": "3aae791d-3ef2-416d-9454-6f4420df0948",
   "metadata": {},
   "source": [
    "## Loading the Model"
   ]
  },
  {
   "cell_type": "code",
   "execution_count": 1,
   "id": "6a4a2aae-bea8-490d-b440-d9cfff7c8522",
   "metadata": {},
   "outputs": [],
   "source": [
    "import pickle\n",
    "\n",
    "def load_model(filename):\n",
    "    with open(filename, \"rb\") as f:\n",
    "        model = pickle.load(f)\n",
    "    print(f\"Model loaded from {filename}\")\n",
    "    return model"
   ]
  },
  {
   "cell_type": "code",
   "execution_count": 2,
   "id": "da71988d-0c54-48db-836d-969e90251101",
   "metadata": {},
   "outputs": [
    {
     "name": "stdout",
     "output_type": "stream",
     "text": [
      "Model loaded from ./model/model.pkl\n"
     ]
    }
   ],
   "source": [
    "model = load_model(\"./model/model.pkl\")"
   ]
  },
  {
   "cell_type": "markdown",
   "id": "a868fd66-a8cf-4609-8b14-0d88ad2abecc",
   "metadata": {},
   "source": [
    "## Convert Model"
   ]
  },
  {
   "cell_type": "markdown",
   "id": "78d70320-ca5f-4302-af76-41f271242f6b",
   "metadata": {},
   "source": [
    "We are going to convert the model to `onnx` format so that it can be used in web browsers, servers and even mobile devices."
   ]
  },
  {
   "cell_type": "code",
   "execution_count": 3,
   "id": "361ddbde-12ca-4b9a-a523-c1891bdceb4e",
   "metadata": {},
   "outputs": [],
   "source": [
    "import skl2onnx\n",
    "from skl2onnx import convert_sklearn\n",
    "from skl2onnx.common.data_types import FloatTensorType"
   ]
  },
  {
   "cell_type": "code",
   "execution_count": 4,
   "id": "4df2cff1-1cc9-4248-b0b7-8fbd4d81e279",
   "metadata": {},
   "outputs": [],
   "source": [
    "def convert_to_onnx(model, feature_count, filename):\n",
    "    initial_type = [(\"float_input\", FloatTensorType([None, feature_count]))]\n",
    "\n",
    "    # Convert to ONNX\n",
    "    onnx_model = convert_sklearn(model, initial_types=initial_type)\n",
    "\n",
    "    # Save to file\n",
    "    with open(filename, \"wb\") as f:\n",
    "        f.write(onnx_model.SerializeToString())\n",
    "    \n",
    "    print(f\"Model converted to ONNX and saved as {filename}\")"
   ]
  },
  {
   "cell_type": "code",
   "execution_count": 5,
   "id": "5bbc1989-07e3-448a-9d87-78e44e3163dc",
   "metadata": {},
   "outputs": [
    {
     "name": "stdout",
     "output_type": "stream",
     "text": [
      "Model converted to ONNX and saved as ./model/model.onnx\n"
     ]
    }
   ],
   "source": [
    "convert_to_onnx(model, 15, \"./model/model.onnx\")"
   ]
  }
 ],
 "metadata": {
  "kernelspec": {
   "display_name": "Python 3 (ipykernel)",
   "language": "python",
   "name": "python3"
  },
  "language_info": {
   "codemirror_mode": {
    "name": "ipython",
    "version": 3
   },
   "file_extension": ".py",
   "mimetype": "text/x-python",
   "name": "python",
   "nbconvert_exporter": "python",
   "pygments_lexer": "ipython3",
   "version": "3.11.13"
  }
 },
 "nbformat": 4,
 "nbformat_minor": 5
}
