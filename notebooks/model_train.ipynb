{
 "cells": [
  {
   "cell_type": "code",
   "execution_count": 1,
   "id": "9d503c02-42f5-4790-a531-be5839c11924",
   "metadata": {},
   "outputs": [],
   "source": [
    "import numpy as np\n",
    "import pandas as pd\n",
    "from sklearn.ensemble import RandomForestRegressor\n",
    "from sklearn.svm import SVR\n",
    "from sklearn.neural_network import MLPRegressor\n",
    "from sklearn.model_selection import train_test_split, RandomizedSearchCV\n",
    "from sklearn.preprocessing import StandardScaler\n",
    "from sklearn.pipeline import Pipeline\n",
    "from sklearn.metrics import mean_absolute_error, mean_squared_error, r2_score\n",
    "from scipy.stats import randint\n",
    "import time"
   ]
  },
  {
   "cell_type": "code",
   "execution_count": 2,
   "id": "1c8779f6-c548-4547-9654-1e5937d3dc3b",
   "metadata": {},
   "outputs": [],
   "source": [
    "dataset_path = \"./temp/dataset.pkl\"\n",
    "data = pd.read_pickle(dataset_path)"
   ]
  },
  {
   "cell_type": "markdown",
   "id": "9b9701cb-3682-43a7-9026-39529d494549",
   "metadata": {},
   "source": [
    "Convert data to *features* and *labels*"
   ]
  },
  {
   "cell_type": "code",
   "execution_count": 3,
   "id": "2a887ed2-01de-40dc-856e-86c47574baa0",
   "metadata": {},
   "outputs": [],
   "source": [
    "X, y = data.drop(\"Price\", axis=1).to_numpy(), data[\"Price\"].to_numpy()"
   ]
  },
  {
   "cell_type": "markdown",
   "id": "96f60557-0486-40f0-99ac-24cf4437aae5",
   "metadata": {},
   "source": [
    "## Model Training"
   ]
  },
  {
   "cell_type": "markdown",
   "id": "939e3e65-c33d-401c-858b-d8efee3c4ea1",
   "metadata": {},
   "source": [
    "Here, we are taking two Machine Learning models for comparison: `Random Forest Regressor (RFR)` and `Support Vector Regressor (SVR)` to determing which of the following shows better results in terms of accuracy."
   ]
  },
  {
   "cell_type": "code",
   "execution_count": 4,
   "id": "17526ae9-c154-4285-ac1c-71b91e88c3c8",
   "metadata": {},
   "outputs": [],
   "source": [
    "def train_and_compare(features, labels, test_size=0.2, random_state=42,\n",
    "                      quick=True, n_iter=20, cv=5):\n",
    "    \"\"\"\n",
    "    Train and compare RandomForest, SVR, MLP.\n",
    "    features: numpy array or pandas DataFrame (n_samples, n_features)\n",
    "    labels: 1D array-like\n",
    "    quick: if True -> RandomizedSearchCV (default). If False -> more exhaustive (n_iter larger).\n",
    "    n_iter: iterations for RandomizedSearchCV\n",
    "    \"\"\"\n",
    "    # Train/test split\n",
    "    X_train, X_test, y_train, y_test = train_test_split(\n",
    "        features, labels, test_size=test_size, random_state=random_state\n",
    "    )\n",
    "\n",
    "    # Model definitions and search spaces\n",
    "    rf = RandomForestRegressor(random_state=random_state, n_jobs=-1)\n",
    "    rf_dist = {\n",
    "    \"n_estimators\": [200, 300, 500, 700, 1000],\n",
    "    \"max_depth\": [10, 20, 30, 40, None],\n",
    "    \"min_samples_split\": [2, 5, 10],\n",
    "    \"min_samples_leaf\": [1, 2, 4],\n",
    "    \"max_features\": [\"sqrt\", \"log2\", None]\n",
    "    }\n",
    "\n",
    "\n",
    "    svr_pipe = Pipeline([(\"scaler\", StandardScaler()), (\"model\", SVR())])\n",
    "    svr_dist = {\n",
    "        \"model__C\": [0.1, 1, 10, 100],\n",
    "        \"model__epsilon\": [0.01, 0.1, 0.2, 0.5],\n",
    "        \"model__kernel\": [\"rbf\", \"linear\"],\n",
    "        \"model__gamma\": [\"scale\", \"auto\"]\n",
    "    }\n",
    "\n",
    "    models = {\n",
    "        \"RandomForest\": (rf, rf_dist),\n",
    "        \"SVR\": (svr_pipe, svr_dist)\n",
    "    }\n",
    "\n",
    "    results = {}\n",
    "    for name, (estimator, param_dist) in models.items():\n",
    "        print(f\"\\n--- Training {name} ---\")\n",
    "        start = time.time()\n",
    "\n",
    "        search = RandomizedSearchCV(\n",
    "            estimator=estimator,\n",
    "            param_distributions=param_dist,\n",
    "            n_iter=n_iter if quick else max(50, n_iter),\n",
    "            scoring=\"neg_mean_absolute_error\",\n",
    "            cv=cv,\n",
    "            random_state=random_state,\n",
    "            n_jobs=-1,\n",
    "            verbose=1\n",
    "        )\n",
    "\n",
    "        search.fit(X_train, y_train)\n",
    "        best = search.best_estimator_\n",
    "        best_params = search.best_params_\n",
    "\n",
    "        # predict and evaluate on test set\n",
    "        y_pred = best.predict(X_test)\n",
    "        mae = mean_absolute_error(y_test, y_pred)\n",
    "        rmse = (mean_squared_error(y_test, y_pred)) ** 0.5\n",
    "        r2 = r2_score(y_test, y_pred)\n",
    "        accuracy_pct = r2 * 100\n",
    "\n",
    "        elapsed = time.time() - start\n",
    "        print(f\"{name} done in {elapsed:.1f}s — MAE: {mae:.2f}, RMSE: {rmse:.2f}, R2: {r2:.4f}\")\n",
    "\n",
    "        results[name] = {\n",
    "            \"estimator\": best,\n",
    "            \"best_params\": best_params,\n",
    "            \"mae\": mae,\n",
    "            \"rmse\": rmse,\n",
    "            \"r2\": r2,\n",
    "            \"accuracy_pct\": accuracy_pct,\n",
    "            \"fit_time_sec\": elapsed\n",
    "        }\n",
    "\n",
    "    # Print summary table\n",
    "    print(\"\\n=== Summary ===\")\n",
    "    for name, res in results.items():\n",
    "        print(f\"{name}: MAE={res['mae']:.2f}, RMSE={res['rmse']:.2f}, R2={res['r2']:.4f}, Accuracy%={res['accuracy_pct']:.2f}%\")\n",
    "\n",
    "    return results\n"
   ]
  },
  {
   "cell_type": "code",
   "execution_count": 5,
   "id": "41e148a7-3569-4d3a-8379-9b406c165f49",
   "metadata": {},
   "outputs": [
    {
     "name": "stdout",
     "output_type": "stream",
     "text": [
      "\n",
      "--- Training RandomForest ---\n",
      "Fitting 5 folds for each of 20 candidates, totalling 100 fits\n",
      "RandomForest done in 29.9s — MAE: 202.10, RMSE: 271.74, R2: 0.7679\n",
      "\n",
      "--- Training SVR ---\n",
      "Fitting 5 folds for each of 20 candidates, totalling 100 fits\n",
      "SVR done in 0.4s — MAE: 271.91, RMSE: 334.57, R2: 0.6482\n",
      "\n",
      "=== Summary ===\n",
      "RandomForest: MAE=202.10, RMSE=271.74, R2=0.7679, Accuracy%=76.79%\n",
      "SVR: MAE=271.91, RMSE=334.57, R2=0.6482, Accuracy%=64.82%\n"
     ]
    }
   ],
   "source": [
    "resuts = train_and_compare(\n",
    "    X,\n",
    "    y,\n",
    "    test_size=0.2,\n",
    "    quick=True,\n",
    "    n_iter=20,\n",
    "    cv=5,\n",
    "    random_state=42\n",
    ")"
   ]
  },
  {
   "cell_type": "markdown",
   "id": "5f033f8a-cd3f-4c2e-84c0-edec2004296d",
   "metadata": {},
   "source": [
    "It looks like the `RFR` model has scored better than `SVR` by **11.92%**. So, we can agree to the fact that our main model should be `RFR`."
   ]
  },
  {
   "cell_type": "markdown",
   "id": "b06f1df8-25aa-420c-8b05-d8dc74844700",
   "metadata": {},
   "source": [
    "## Hyperparameter Search"
   ]
  },
  {
   "cell_type": "markdown",
   "id": "473aa65e-cd5a-4658-bd39-ccc5ec3f00aa",
   "metadata": {},
   "source": [
    "Our model's accuracy is currently **76.79%**. We can try to make a little bit better by tweaking the parameters of the `RFR` model using `RandomizedSearchCV`."
   ]
  },
  {
   "cell_type": "markdown",
   "id": "ff18f51d-3563-442c-ad30-e02e124ed9d9",
   "metadata": {},
   "source": [
    "In short, the function `train_random_forest_fast` trains a `RandomForestRegressor` using *hyperparameter optimization* with `RandomizedSearchCV`. It splits the data into training and test sets, performs a quick search for the best hyperparameters, trains the model, and evaluates its performance using metrics like *MAE, RMSE, and R²*. It returns the best model, test data, predictions, and performance accuracy."
   ]
  },
  {
   "cell_type": "code",
   "execution_count": 6,
   "id": "0bceb43f-3d81-4b01-bf61-46047b3605c4",
   "metadata": {},
   "outputs": [],
   "source": [
    "import numpy as np\n",
    "from sklearn.ensemble import RandomForestRegressor\n",
    "from sklearn.model_selection import train_test_split, RandomizedSearchCV\n",
    "from sklearn.metrics import mean_absolute_error, mean_squared_error, r2_score\n",
    "import time\n",
    "\n",
    "def train_random_forest_fast(features, labels, test_size=0.2, random_state=42, n_iter=50):\n",
    "    \"\"\"\n",
    "    Fast hyperparameter search for RandomForestRegressor using RandomizedSearchCV.\n",
    "    \"\"\"\n",
    "    # Split data\n",
    "    X_train, X_test, y_train, y_test = train_test_split(\n",
    "        features, labels, test_size=test_size, random_state=random_state\n",
    "    )\n",
    "\n",
    "    # Base model\n",
    "    rf = RandomForestRegressor(random_state=random_state, n_jobs=-1)\n",
    "\n",
    "    # Parameter distributions\n",
    "    param_dist = {\n",
    "        \"n_estimators\": [200, 300, 500, 700, 1000, 1200],\n",
    "        \"max_depth\": [10, 20, 30, 40, None],\n",
    "        \"min_samples_split\": [2, 5, 10],\n",
    "        \"min_samples_leaf\": [1, 2, 4],\n",
    "        \"max_features\": [\"sqrt\", \"log2\", None]\n",
    "    }\n",
    "\n",
    "    # Randomized search\n",
    "    search = RandomizedSearchCV(\n",
    "        estimator=rf,\n",
    "        param_distributions=param_dist,\n",
    "        n_iter=n_iter,       # number of random combinations to try\n",
    "        cv=5,\n",
    "        scoring=\"r2\",        # optimize for R²\n",
    "        random_state=random_state,\n",
    "        n_jobs=-1,\n",
    "        verbose=2\n",
    "    )\n",
    "\n",
    "    start = time.time()\n",
    "    search.fit(X_train, y_train)\n",
    "    elapsed = time.time() - start\n",
    "\n",
    "    best_rf = search.best_estimator_\n",
    "\n",
    "    # Predict\n",
    "    y_pred = best_rf.predict(X_test)\n",
    "\n",
    "    # Metrics\n",
    "    mae = mean_absolute_error(y_test, y_pred)\n",
    "    rmse = np.sqrt(mean_squared_error(y_test, y_pred))\n",
    "    r2 = r2_score(y_test, y_pred)\n",
    "    accuracy_pct = r2 * 100\n",
    "\n",
    "    print(\"=== RandomForest Fast Tuning ===\")\n",
    "    print(f\"Best Parameters: {search.best_params_}\")\n",
    "    print(f\"Training Time: {elapsed:.1f}s\")\n",
    "    print(f\"MAE: {mae:.2f}\")\n",
    "    print(f\"RMSE: {rmse:.2f}\")\n",
    "    print(f\"R²: {r2:.4f} → Accuracy ≈ {accuracy_pct:.2f}%\")\n",
    "\n",
    "    return best_rf, X_test, y_test, y_pred, accuracy_pct"
   ]
  },
  {
   "cell_type": "code",
   "execution_count": 7,
   "id": "6eb14d13-53f6-48d4-9d6e-8544fa95f42a",
   "metadata": {},
   "outputs": [
    {
     "name": "stdout",
     "output_type": "stream",
     "text": [
      "Fitting 5 folds for each of 50 candidates, totalling 250 fits\n",
      "=== RandomForest Fast Tuning ===\n",
      "Best Parameters: {'n_estimators': 300, 'min_samples_split': 10, 'min_samples_leaf': 2, 'max_features': None, 'max_depth': 10}\n",
      "Training Time: 86.3s\n",
      "MAE: 202.90\n",
      "RMSE: 271.52\n",
      "R²: 0.7683 → Accuracy ≈ 76.83%\n"
     ]
    }
   ],
   "source": [
    "model, X_test, y_test, y_pred, accuracy = train_random_forest_fast(X, y)"
   ]
  },
  {
   "cell_type": "markdown",
   "id": "1e0074bc-4ffe-429a-bdbe-e840a13e0a1d",
   "metadata": {},
   "source": [
    "We have succeeded to enhance it's accuracy by **0.4%** by hyperparameter tuning. Now it may seem so low as a model, but remember, the real world data has too much of a randomness in case of calculating the price of a software. Along with that, we may need even more amount of data to get better accuracy."
   ]
  },
  {
   "cell_type": "markdown",
   "id": "4dad0574-e02b-4399-a189-4b28513917a1",
   "metadata": {},
   "source": [
    "Now let's witness the visualization of Regressive BFL (Best Fit Line) of our model."
   ]
  },
  {
   "cell_type": "code",
   "execution_count": 8,
   "id": "c847be34-b175-4828-8f5b-9dc1f0673293",
   "metadata": {},
   "outputs": [
    {
     "data": {
      "image/png": "[encoded data removed]",
      "text/plain": [
       "<Figure size 1000x600 with 1 Axes>"
      ]
     },
     "metadata": {},
     "output_type": "display_data"
    }
   ],
   "source": [
    "import matplotlib.pyplot as plt\n",
    "\n",
    "def plot_actual_vs_predicted(y_test, y_pred):\n",
    "    \"\"\"\n",
    "    Plot actual vs predicted prices.\n",
    "    \"\"\"\n",
    "    plt.figure(figsize=(10, 6))\n",
    "    plt.scatter(y_test, y_pred, alpha=0.7, color='teal')\n",
    "    \n",
    "    # Perfect prediction line\n",
    "    min_val = min(y_test.min(), y_pred.min())\n",
    "    max_val = max(y_test.max(), y_pred.max())\n",
    "    plt.plot([min_val, max_val], [min_val, max_val], 'r--', lw=2)\n",
    "    \n",
    "    plt.xlabel(\"Actual Price\")\n",
    "    plt.ylabel(\"Predicted Price\")\n",
    "    plt.title(\"Actual vs Predicted Prices\")\n",
    "    plt.grid(True, alpha=0.3)\n",
    "    plt.tight_layout()\n",
    "    plt.show()\n",
    "\n",
    "plot_actual_vs_predicted(y_test, y_pred)\n"
   ]
  },
  {
   "cell_type": "markdown",
   "id": "5f4b77f0-10f0-46c2-8623-cde3f61ce092",
   "metadata": {},
   "source": [
    "Notice the data we have present has so much randomness shown in the graph. The standard deviation of some of the data from the BFL is quite an amount. Thus we can say, our model is doing actually good."
   ]
  },
  {
   "cell_type": "markdown",
   "id": "901b7e56-9e95-4f2c-9135-a11ff439bef5",
   "metadata": {},
   "source": [
    "## Saving the Model"
   ]
  },
  {
   "cell_type": "code",
   "execution_count": 9,
   "id": "1dfae1af-aa8c-4b1c-9504-756fe6a23a11",
   "metadata": {},
   "outputs": [],
   "source": [
    "import pickle\n",
    "\n",
    "def save_model(model, filename):\n",
    "    with open(filename, \"wb\") as f:\n",
    "        pickle.dump(model, f)\n",
    "    print(f\"Model saved to {filename}\")"
   ]
  },
  {
   "cell_type": "code",
   "execution_count": 10,
   "id": "732984d2-857c-4402-a67a-3333b56a4973",
   "metadata": {},
   "outputs": [
    {
     "name": "stdout",
     "output_type": "stream",
     "text": [
      "Model saved to ./model/model.pkl\n"
     ]
    }
   ],
   "source": [
    "save_model(model, \"./model/model.pkl\")"
   ]
  }
 ],
 "metadata": {
  "kernelspec": {
   "display_name": "Python 3 (ipykernel)",
   "language": "python",
   "name": "python3"
  },
  "language_info": {
   "codemirror_mode": {
    "name": "ipython",
    "version": 3
   },
   "file_extension": ".py",
   "mimetype": "text/x-python",
   "name": "python",
   "nbconvert_exporter": "python",
   "pygments_lexer": "ipython3",
   "version": "3.11.13"
  }
 },
 "nbformat": 4,
 "nbformat_minor": 5
}
