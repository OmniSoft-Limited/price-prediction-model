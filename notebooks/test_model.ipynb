{
 "cells": [
  {
   "cell_type": "code",
   "execution_count": 1,
   "id": "37e8acd4-d9e7-4d91-8e82-050365f4b1f8",
   "metadata": {},
   "outputs": [],
   "source": [
    "import onnxruntime as ort\n",
    "import numpy as np"
   ]
  },
  {
   "cell_type": "code",
   "execution_count": 2,
   "id": "89da3b4e-952f-4c6b-8c78-d491d47d5310",
   "metadata": {},
   "outputs": [],
   "source": [
    "def load_onnx_model(filename=\"rf_software_price.onnx\"):\n",
    "    \"\"\"\n",
    "    Load ONNX model and return ONNX runtime session.\n",
    "    \"\"\"\n",
    "    session = ort.InferenceSession(filename)\n",
    "    print(f\"ONNX model loaded from {filename}\")\n",
    "    return session"
   ]
  },
  {
   "cell_type": "code",
   "execution_count": 3,
   "id": "66fe3aa8-af13-492e-b54e-fe690232c19e",
   "metadata": {},
   "outputs": [
    {
     "name": "stdout",
     "output_type": "stream",
     "text": [
      "ONNX model loaded from ./model/model.onnx\n"
     ]
    }
   ],
   "source": [
    "model = load_onnx_model(\"./model/model.onnx\")"
   ]
  },
  {
   "cell_type": "code",
   "execution_count": 4,
   "id": "02ae1ba8-e225-4e6c-adfd-e7987f170fb8",
   "metadata": {},
   "outputs": [
    {
     "name": "stdout",
     "output_type": "stream",
     "text": [
      "<onnxruntime.capi.onnxruntime_inference_collection.InferenceSession object at 0x7747b0ca13d0>\n"
     ]
    }
   ],
   "source": [
    "print(model)"
   ]
  },
  {
   "cell_type": "code",
   "execution_count": 5,
   "id": "a24332fb-67a4-4378-bfeb-f79fbb9f7dbd",
   "metadata": {},
   "outputs": [
    {
     "name": "stdout",
     "output_type": "stream",
     "text": [
      "float_input\n"
     ]
    }
   ],
   "source": [
    "input_name = model.get_inputs()[0].name\n",
    "print(input_name)"
   ]
  },
  {
   "cell_type": "code",
   "execution_count": 6,
   "id": "b9336857-6640-44e9-a265-af373cb14d8a",
   "metadata": {},
   "outputs": [],
   "source": [
    "X = np.array([2, 9,\t40.0, 1, 0,\t1.0, 0.0, 3.000000,\t2, 0, 2.0, 3, 0, 2.0, 3])\n",
    "X = X.reshape(1, -1)"
   ]
  },
  {
   "cell_type": "markdown",
   "id": "5b12b36a-e9bc-471d-9b68-76f924929214",
   "metadata": {},
   "source": [
    "As per the requirements, the price should be close to *$700-800*. Let's test."
   ]
  },
  {
   "cell_type": "code",
   "execution_count": 7,
   "id": "606ac209-0a1f-4b7d-9d99-815c872cae2d",
   "metadata": {},
   "outputs": [],
   "source": [
    "y_prediction = model.run(None, {input_name: X.astype(np.float32)})\n",
    "y_true = 73"
   ]
  },
  {
   "cell_type": "code",
   "execution_count": 8,
   "id": "147d8d7c-0b38-4839-a22d-2e63f0d041e2",
   "metadata": {},
   "outputs": [
    {
     "name": "stdout",
     "output_type": "stream",
     "text": [
      "[array([[749.908]], dtype=float32)]\n"
     ]
    }
   ],
   "source": [
    "print(y_prediction)"
   ]
  },
  {
   "cell_type": "markdown",
   "id": "66643624-a8f9-4e85-834c-c857935360cf",
   "metadata": {},
   "source": [
    "Hurrahhhh!!! It's almost perfect. A full success."
   ]
  }
 ],
 "metadata": {
  "kernelspec": {
   "display_name": "Python 3 (ipykernel)",
   "language": "python",
   "name": "python3"
  },
  "language_info": {
   "codemirror_mode": {
    "name": "ipython",
    "version": 3
   },
   "file_extension": ".py",
   "mimetype": "text/x-python",
   "name": "python",
   "nbconvert_exporter": "python",
   "pygments_lexer": "ipython3",
   "version": "3.11.13"
  }
 },
 "nbformat": 4,
 "nbformat_minor": 5
}
