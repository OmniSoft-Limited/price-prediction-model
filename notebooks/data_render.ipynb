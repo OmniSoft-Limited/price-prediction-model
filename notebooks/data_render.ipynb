{
 "cells": [
  {
   "cell_type": "markdown",
   "id": "02bffea9-de96-4f44-bc0a-b006ff3a2448",
   "metadata": {},
   "source": [
    "### Imports "
   ]
  },
  {
   "cell_type": "code",
   "execution_count": 1,
   "id": "feeb60a8-093b-4520-b6d7-b0ba04727189",
   "metadata": {},
   "outputs": [],
   "source": [
    "import pandas as pd\n",
    "import os"
   ]
  },
  {
   "cell_type": "markdown",
   "id": "f7249614-17ba-4e69-bb4e-6d0856268a86",
   "metadata": {},
   "source": [
    "## Load and merge data"
   ]
  },
  {
   "cell_type": "code",
   "execution_count": 2,
   "id": "e2028f2e-071e-4120-90d3-60957525ed2c",
   "metadata": {},
   "outputs": [
    {
     "name": "stdout",
     "output_type": "stream",
     "text": [
      "['001.csv', '002.csv', '003.csv', '004.csv', '005.csv', '006.csv', '007.csv', '008.csv', '009.csv', '010.csv']\n"
     ]
    }
   ],
   "source": [
    "# Set directory\n",
    "dir_path = \"../dataset\"\n",
    "\n",
    "# Set file names\n",
    "file_names = [f\"{i:03}.csv\" for i in range(1, 11)]\n",
    "\n",
    "# Debug\n",
    "print(file_names)"
   ]
  },
  {
   "cell_type": "code",
   "execution_count": 3,
   "id": "275e6a99-af84-44a3-91a9-b674bd9e14a3",
   "metadata": {},
   "outputs": [],
   "source": [
    "# Read data\n",
    "df_list = [pd.read_csv(os.path.join(dir_path, f)) for f in file_names]\n",
    "\n",
    "# Merge data \n",
    "merged_data = pd.concat(df_list, ignore_index=True)"
   ]
  },
  {
   "cell_type": "code",
   "execution_count": 4,
   "id": "10aa6718-8cd2-4fc5-b067-8c9d629e4ac0",
   "metadata": {},
   "outputs": [
    {
     "data": {
      "text/html": [
       "<div>\n",
       "<style scoped>\n",
       "    .dataframe tbody tr th:only-of-type {\n",
       "        vertical-align: middle;\n",
       "    }\n",
       "\n",
       "    .dataframe tbody tr th {\n",
       "        vertical-align: top;\n",
       "    }\n",
       "\n",
       "    .dataframe thead th {\n",
       "        text-align: right;\n",
       "    }\n",
       "</style>\n",
       "<table border=\"1\" class=\"dataframe\">\n",
       "  <thead>\n",
       "    <tr style=\"text-align: right;\">\n",
       "      <th></th>\n",
       "      <th>softwareType</th>\n",
       "      <th>industryDomain</th>\n",
       "      <th>numUsers</th>\n",
       "      <th>targetMarket</th>\n",
       "      <th>adminDashboard</th>\n",
       "      <th>contentManagement</th>\n",
       "      <th>extraFeatures</th>\n",
       "      <th>thirdPartyService</th>\n",
       "      <th>authentication</th>\n",
       "      <th>dataMigration</th>\n",
       "      <th>uiUxDesign</th>\n",
       "      <th>performance</th>\n",
       "      <th>security</th>\n",
       "      <th>availability</th>\n",
       "      <th>timeline_months</th>\n",
       "      <th>Price</th>\n",
       "    </tr>\n",
       "  </thead>\n",
       "  <tbody>\n",
       "    <tr>\n",
       "      <th>0</th>\n",
       "      <td>Mobile</td>\n",
       "      <td>Restaurant_Management</td>\n",
       "      <td>500-1000</td>\n",
       "      <td>Global</td>\n",
       "      <td>Basic</td>\n",
       "      <td>Workflow</td>\n",
       "      <td>Reporting_and_Analysis</td>\n",
       "      <td>Analytics, Payment_Gateway, Mail</td>\n",
       "      <td>Multi_Factor</td>\n",
       "      <td>Null</td>\n",
       "      <td>Custom</td>\n",
       "      <td>Medium</td>\n",
       "      <td>High</td>\n",
       "      <td>Normal</td>\n",
       "      <td>9</td>\n",
       "      <td>1300.0</td>\n",
       "    </tr>\n",
       "    <tr>\n",
       "      <th>1</th>\n",
       "      <td>Desktop</td>\n",
       "      <td>Fintech</td>\n",
       "      <td>30-50</td>\n",
       "      <td>Local</td>\n",
       "      <td>Null</td>\n",
       "      <td>Workflow</td>\n",
       "      <td>Reporting_and_Analysis</td>\n",
       "      <td>Payment_Gateway, Mail</td>\n",
       "      <td>Social</td>\n",
       "      <td>Null</td>\n",
       "      <td>Advanced</td>\n",
       "      <td>High</td>\n",
       "      <td>Null</td>\n",
       "      <td>Always</td>\n",
       "      <td>3</td>\n",
       "      <td>1050.0</td>\n",
       "    </tr>\n",
       "    <tr>\n",
       "      <th>2</th>\n",
       "      <td>Web</td>\n",
       "      <td>Fintech</td>\n",
       "      <td>01/10</td>\n",
       "      <td>Local</td>\n",
       "      <td>Basic</td>\n",
       "      <td>Pages_and_Media</td>\n",
       "      <td>Search_and_Filter</td>\n",
       "      <td>Mail</td>\n",
       "      <td>Multi_Factor</td>\n",
       "      <td>Null</td>\n",
       "      <td>Basic</td>\n",
       "      <td>Basic</td>\n",
       "      <td>Null</td>\n",
       "      <td>Normal</td>\n",
       "      <td>30</td>\n",
       "      <td>310.0</td>\n",
       "    </tr>\n",
       "    <tr>\n",
       "      <th>3</th>\n",
       "      <td>Mobile</td>\n",
       "      <td>Hotel_Management</td>\n",
       "      <td>100-500</td>\n",
       "      <td>Both</td>\n",
       "      <td>Advanced</td>\n",
       "      <td>Workflow</td>\n",
       "      <td>Search_and_Filter</td>\n",
       "      <td>Mail, Payment_Gateway</td>\n",
       "      <td>Social</td>\n",
       "      <td>Null</td>\n",
       "      <td>Custom</td>\n",
       "      <td>Basic</td>\n",
       "      <td>Null</td>\n",
       "      <td>Normal</td>\n",
       "      <td>9</td>\n",
       "      <td>750.0</td>\n",
       "    </tr>\n",
       "    <tr>\n",
       "      <th>4</th>\n",
       "      <td>Desktop</td>\n",
       "      <td>Ecommerce</td>\n",
       "      <td>01/10</td>\n",
       "      <td>Both</td>\n",
       "      <td>Basic</td>\n",
       "      <td>Null</td>\n",
       "      <td>File_Handling</td>\n",
       "      <td>AI_integration, Payment_Gateway</td>\n",
       "      <td>Null</td>\n",
       "      <td>No</td>\n",
       "      <td>Custom</td>\n",
       "      <td>Basic</td>\n",
       "      <td>Null</td>\n",
       "      <td>Normal</td>\n",
       "      <td>4</td>\n",
       "      <td>920.0</td>\n",
       "    </tr>\n",
       "  </tbody>\n",
       "</table>\n",
       "</div>"
      ],
      "text/plain": [
       "  softwareType         industryDomain  numUsers targetMarket adminDashboard  \\\n",
       "0       Mobile  Restaurant_Management  500-1000       Global          Basic   \n",
       "1      Desktop                Fintech     30-50        Local           Null   \n",
       "2          Web                Fintech     01/10        Local          Basic   \n",
       "3       Mobile       Hotel_Management   100-500         Both       Advanced   \n",
       "4      Desktop              Ecommerce     01/10         Both          Basic   \n",
       "\n",
       "  contentManagement           extraFeatures                 thirdPartyService  \\\n",
       "0          Workflow  Reporting_and_Analysis  Analytics, Payment_Gateway, Mail   \n",
       "1          Workflow  Reporting_and_Analysis             Payment_Gateway, Mail   \n",
       "2   Pages_and_Media       Search_and_Filter                              Mail   \n",
       "3          Workflow       Search_and_Filter             Mail, Payment_Gateway   \n",
       "4              Null           File_Handling   AI_integration, Payment_Gateway   \n",
       "\n",
       "  authentication dataMigration uiUxDesign performance security availability  \\\n",
       "0   Multi_Factor          Null     Custom      Medium     High       Normal   \n",
       "1         Social          Null   Advanced        High     Null       Always   \n",
       "2   Multi_Factor          Null      Basic       Basic     Null       Normal   \n",
       "3         Social          Null     Custom       Basic     Null       Normal   \n",
       "4           Null            No     Custom       Basic     Null       Normal   \n",
       "\n",
       "   timeline_months   Price  \n",
       "0                9  1300.0  \n",
       "1                3  1050.0  \n",
       "2               30   310.0  \n",
       "3                9   750.0  \n",
       "4                4   920.0  "
      ]
     },
     "execution_count": 4,
     "metadata": {},
     "output_type": "execute_result"
    }
   ],
   "source": [
    "merged_data.head()"
   ]
  },
  {
   "cell_type": "markdown",
   "id": "df30d821-ce3c-4382-ae90-6e541d36c37c",
   "metadata": {},
   "source": [
    "## Save the Data "
   ]
  },
  {
   "cell_type": "code",
   "execution_count": 5,
   "id": "1a9f593c-004e-46e3-8396-3c538f687f5b",
   "metadata": {},
   "outputs": [],
   "source": [
    "# Temp File Path\n",
    "file_path = \"./temp/data.pkl\""
   ]
  },
  {
   "cell_type": "code",
   "execution_count": 6,
   "id": "4864347a-6fac-4be2-9614-6cf910a7bc02",
   "metadata": {},
   "outputs": [],
   "source": [
    "# Output to path\n",
    "merged_data.to_pickle(file_path)"
   ]
  }
 ],
 "metadata": {
  "kernelspec": {
   "display_name": "Python 3 (ipykernel)",
   "language": "python",
   "name": "python3"
  },
  "language_info": {
   "codemirror_mode": {
    "name": "ipython",
    "version": 3
   },
   "file_extension": ".py",
   "mimetype": "text/x-python",
   "name": "python",
   "nbconvert_exporter": "python",
   "pygments_lexer": "ipython3",
   "version": "3.11.13"
  }
 },
 "nbformat": 4,
 "nbformat_minor": 5
}
